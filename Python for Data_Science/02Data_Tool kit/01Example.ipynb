{
 "cells": [
  {
   "cell_type": "code",
   "execution_count": 1,
   "id": "2060d367",
   "metadata": {},
   "outputs": [
    {
     "name": "stdout",
     "output_type": "stream",
     "text": [
      "hi,I am VishalBhardwaj\n"
     ]
    }
   ],
   "source": [
    "print(\"hi,I am VishalBhardwaj\")"
   ]
  },
  {
   "cell_type": "markdown",
   "id": "bb3525f0",
   "metadata": {},
   "source": [
    "### hello\n",
    "\n"
   ]
  },
  {
   "cell_type": "code",
   "execution_count": null,
   "id": "0d1038a8",
   "metadata": {},
   "outputs": [],
   "source": [
    "print(\"Vishal\")"
   ]
  },
  {
   "cell_type": "code",
   "execution_count": 6,
   "id": "5bb48a93",
   "metadata": {},
   "outputs": [
    {
     "name": "stdout",
     "output_type": "stream",
     "text": [
      "Vishal\n",
      "23\n",
      "23\n",
      "54\n",
      "54\n",
      "67\n",
      "67\n",
      "89\n",
      "89\n"
     ]
    }
   ],
   "source": [
    "print(\"Vishal\")\n",
    "lis=[23,54,67,89]\n",
    "for x in lis:\n",
    "    print(x)\n",
    "    print(x)"
   ]
  },
  {
   "cell_type": "code",
   "execution_count": null,
   "id": "0d72f89e",
   "metadata": {},
   "outputs": [],
   "source": []
  }
 ],
 "metadata": {
  "kernelspec": {
   "display_name": "Python 3 (ipykernel)",
   "language": "python",
   "name": "python3"
  },
  "language_info": {
   "codemirror_mode": {
    "name": "ipython",
    "version": 3
   },
   "file_extension": ".py",
   "mimetype": "text/x-python",
   "name": "python",
   "nbconvert_exporter": "python",
   "pygments_lexer": "ipython3",
   "version": "3.10.9"
  }
 },
 "nbformat": 4,
 "nbformat_minor": 5
}

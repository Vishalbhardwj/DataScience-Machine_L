{
 "cells": [
  {
   "cell_type": "code",
   "execution_count": 31,
   "id": "d8d3ae9d",
   "metadata": {},
   "outputs": [],
   "source": [
    "fd=open('02Corpus.txt','r')\n",
    "t=fd.read()\n",
    "fd.close()\n"
   ]
  },
  {
   "cell_type": "code",
   "execution_count": 32,
   "id": "1d16e47a",
   "metadata": {},
   "outputs": [
    {
     "data": {
      "text/plain": [
       "'Chandrayaan-3 is the third mission in the Chandrayaan programme, a series of lunar-exploration missions developed by the Indian Space Research Organisation (ISRO).[7] Launched on 14 July 2023, the mission consists of a lunar lander named Vikram and a lunar rover named Pragyan, similar to those launched aboard Chandrayaan-2 in 2019.\\n\\nChandrayaan-3 was launched from Satish Dhawan Space Centre on 14 July 2023. The spacecraft entered lunar orbit on 5 August, and the lander touched down near the Lunar south pole[8] on 23 August at 18:03 IST (12:33 UTC), making India the fourth country to successfully land on the Moon, and the first to do so near the lunar south pole.[9][note 1] On 3 September the lander hopped and repositioned itself 30â€“40 cm (12â€“16 in) from its landing site.[13]\\n\\nThe Vikram lander and Pragyan rover were set to sleep on 2 September and 4 September respectively due to depleting solar power with sunset at the landing site. The lander and rover are planned to start working again at local sunrise on September 22.[14][15]\\n\\nBackground\\nFurther information: Chandrayaan programme\\nSee also: Lunar south pole\\nOn 22 July 2019, ISRO launched Chandrayaan-2 on board a Launch Vehicle Mark-3 (LVM3) launch vehicle consisting of an orbiter, a lander and a rover.[16] The lander was scheduled to touch down on the lunar surface on 6 September 2019 to deploy the Pragyan rover. The lander lost contact with mission control, deviated from its intended trajectory while attempting to land near the lunar south pole, and crashed.[17][18]'"
      ]
     },
     "execution_count": 32,
     "metadata": {},
     "output_type": "execute_result"
    }
   ],
   "source": [
    "t"
   ]
  },
  {
   "cell_type": "code",
   "execution_count": 33,
   "id": "a36ec4d8",
   "metadata": {},
   "outputs": [
    {
     "name": "stdout",
     "output_type": "stream",
     "text": [
      "Chandrayaan-3 is the third mission in the Chandrayaan programme, a series of lunar-exploration missions developed by the Indian Space Research Organisation (ISRO).[7] Launched on 14 July 2023, the mission consists of a lunar lander named Vikram and a lunar rover named Pragyan, similar to those launched aboard Chandrayaan-2 in 2019.\n",
      "\n",
      "Chandrayaan-3 was launched from Satish Dhawan Space Centre on 14 July 2023. The spacecraft entered lunar orbit on 5 August, and the lander touched down near the Lunar south pole[8] on 23 August at 18:03 IST (12:33 UTC), making India the fourth country to successfully land on the Moon, and the first to do so near the lunar south pole.[9][note 1] On 3 September the lander hopped and repositioned itself 30â€“40 cm (12â€“16 in) from its landing site.[13]\n",
      "\n",
      "The Vikram lander and Pragyan rover were set to sleep on 2 September and 4 September respectively due to depleting solar power with sunset at the landing site. The lander and rover are planned to start working again at local sunrise on September 22.[14][15]\n",
      "\n",
      "Background\n",
      "Further information: Chandrayaan programme\n",
      "See also: Lunar south pole\n",
      "On 22 July 2019, ISRO launched Chandrayaan-2 on board a Launch Vehicle Mark-3 (LVM3) launch vehicle consisting of an orbiter, a lander and a rover.[16] The lander was scheduled to touch down on the lunar surface on 6 September 2019 to deploy the Pragyan rover. The lander lost contact with mission control, deviated from its intended trajectory while attempting to land near the lunar south pole, and crashed.[17][18]\n"
     ]
    }
   ],
   "source": [
    "print(t)"
   ]
  },
  {
   "cell_type": "code",
   "execution_count": 34,
   "id": "02edb8f4",
   "metadata": {},
   "outputs": [
    {
     "data": {
      "text/plain": [
       "'Chandrayaan-3 is the third mission in the Chandrayaan programme, a series of lunar-exploration missions developed by the Indian Space Research Organisation (ISRO).[7] Launched on 14 July 2023, the mission consists of a lunar lander named Vikram and a lunar rover named Pragyan, similar to those launched aboard Chandrayaan-2 in 2019.\\n\\nChandrayaan-3 was launched from Satish Dhawan Space Centre on 14 July 2023. The spacecraft entered lunar orbit on 5 August, and the lander touched down near the Lunar south pole[8] on 23 August at 18:03 IST (12:33 UTC), making India the fourth country to successfully land on the Moon, and the first to do so near the lunar south pole.[9][note 1] On 3 September the lander hopped and repositioned itself 30â€“40 cm (12â€“16 in) from its landing site.[13]\\n\\nThe Vikram lander and Pragyan rover were set to sleep on 2 September and 4 September respectively due to depleting solar power with sunset at the landing site. The lander and rover are planned to start working again at local sunrise on September 22.[14][15]\\n\\nBackground\\nFurther information: Chandrayaan programme\\nSee also: Lunar south pole\\nOn 22 July 2019, ISRO launched Chandrayaan-2 on board a Launch Vehicle Mark-3 (LVM3) launch vehicle consisting of an orbiter, a lander and a rover.[16] The lander was scheduled to touch down on the lunar surface on 6 September 2019 to deploy the Pragyan rover. The lander lost contact with mission control, deviated from its intended trajectory while attempting to land near the lunar south pole, and crashed.[17][18]'"
      ]
     },
     "execution_count": 34,
     "metadata": {},
     "output_type": "execute_result"
    }
   ],
   "source": [
    "t"
   ]
  },
  {
   "cell_type": "code",
   "execution_count": 35,
   "id": "56595bdd",
   "metadata": {},
   "outputs": [],
   "source": [
    "t=t.replace('\\n\\n','******')"
   ]
  },
  {
   "cell_type": "code",
   "execution_count": 36,
   "id": "a184fe62",
   "metadata": {},
   "outputs": [
    {
     "data": {
      "text/plain": [
       "'Chandrayaan-3 is the third mission in the Chandrayaan programme, a series of lunar-exploration missions developed by the Indian Space Research Organisation (ISRO).[7] Launched on 14 July 2023, the mission consists of a lunar lander named Vikram and a lunar rover named Pragyan, similar to those launched aboard Chandrayaan-2 in 2019.******Chandrayaan-3 was launched from Satish Dhawan Space Centre on 14 July 2023. The spacecraft entered lunar orbit on 5 August, and the lander touched down near the Lunar south pole[8] on 23 August at 18:03 IST (12:33 UTC), making India the fourth country to successfully land on the Moon, and the first to do so near the lunar south pole.[9][note 1] On 3 September the lander hopped and repositioned itself 30â€“40 cm (12â€“16 in) from its landing site.[13]******The Vikram lander and Pragyan rover were set to sleep on 2 September and 4 September respectively due to depleting solar power with sunset at the landing site. The lander and rover are planned to start working again at local sunrise on September 22.[14][15]******Background\\nFurther information: Chandrayaan programme\\nSee also: Lunar south pole\\nOn 22 July 2019, ISRO launched Chandrayaan-2 on board a Launch Vehicle Mark-3 (LVM3) launch vehicle consisting of an orbiter, a lander and a rover.[16] The lander was scheduled to touch down on the lunar surface on 6 September 2019 to deploy the Pragyan rover. The lander lost contact with mission control, deviated from its intended trajectory while attempting to land near the lunar south pole, and crashed.[17][18]'"
      ]
     },
     "execution_count": 36,
     "metadata": {},
     "output_type": "execute_result"
    }
   ],
   "source": [
    "t"
   ]
  },
  {
   "cell_type": "code",
   "execution_count": null,
   "id": "8cbbed83",
   "metadata": {},
   "outputs": [],
   "source": []
  }
 ],
 "metadata": {
  "kernelspec": {
   "display_name": "Python 3 (ipykernel)",
   "language": "python",
   "name": "python3"
  },
  "language_info": {
   "codemirror_mode": {
    "name": "ipython",
    "version": 3
   },
   "file_extension": ".py",
   "mimetype": "text/x-python",
   "name": "python",
   "nbconvert_exporter": "python",
   "pygments_lexer": "ipython3",
   "version": "3.10.9"
  }
 },
 "nbformat": 4,
 "nbformat_minor": 5
}

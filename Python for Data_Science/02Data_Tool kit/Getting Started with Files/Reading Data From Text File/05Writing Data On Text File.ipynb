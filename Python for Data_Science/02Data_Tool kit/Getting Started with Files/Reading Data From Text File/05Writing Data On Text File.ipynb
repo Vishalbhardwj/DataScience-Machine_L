{
 "cells": [
  {
   "cell_type": "code",
   "execution_count": 22,
   "id": "24e0a2a7",
   "metadata": {},
   "outputs": [],
   "source": [
    "fd=open(\"05Data.txt\",'w')                    ## Write mode:-Use to Write and Overwrite Previous text.               \n",
    "fd.write(\"klasdfkjfalksfk;asnvdknawejfhasdkjvnlzmmmmmmmmmmmmmmmmmmmmmmmmmmmmmmm\")\n",
    "fd.close()\n",
    "fd=open(\"05Data.txt\",'w')\n",
    "fd.write(\"sunnil\")\n",
    "fd.close()\n",
    "\n"
   ]
  },
  {
   "cell_type": "code",
   "execution_count": 24,
   "id": "b01839ea",
   "metadata": {},
   "outputs": [],
   "source": [
    "fd=open(\"05Data.txt\",'w')                                \n",
    "fd.write(\"Uvlkasjfl\")\n",
    "fd.close()\n",
    "k=open(\"05Data.txt\",'a')             ## append mode:-Use to append text at the end of the text.\n",
    "k.write(\"keshav\")\n",
    "k.close()"
   ]
  },
  {
   "cell_type": "code",
   "execution_count": null,
   "id": "4d8b09a1",
   "metadata": {},
   "outputs": [],
   "source": []
  }
 ],
 "metadata": {
  "kernelspec": {
   "display_name": "Python 3 (ipykernel)",
   "language": "python",
   "name": "python3"
  },
  "language_info": {
   "codemirror_mode": {
    "name": "ipython",
    "version": 3
   },
   "file_extension": ".py",
   "mimetype": "text/x-python",
   "name": "python",
   "nbconvert_exporter": "python",
   "pygments_lexer": "ipython3",
   "version": "3.10.9"
  }
 },
 "nbformat": 4,
 "nbformat_minor": 5
}
